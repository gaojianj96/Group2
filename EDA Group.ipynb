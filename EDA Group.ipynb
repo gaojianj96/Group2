{
 "cells": [
  {
   "cell_type": "code",
   "execution_count": 1,
   "metadata": {
    "collapsed": true
   },
   "outputs": [],
   "source": [
    "import pandas as pd\n",
    "import itertools\n",
    "from collections import Counter"
   ]
  },
  {
   "cell_type": "code",
   "execution_count": 2,
   "metadata": {
    "collapsed": false
   },
   "outputs": [],
   "source": [
    "df = pd.read_csv('./input/preprocesse_samples_from_last_10000.csv',sep=',',quotechar='|',header=None,encoding='utf-8')\n",
    "df.columns = ['title','body','tags']"
   ]
  },
  {
   "cell_type": "code",
   "execution_count": 3,
   "metadata": {
    "collapsed": false
   },
   "outputs": [
    {
     "data": {
      "text/html": [
       "<div>\n",
       "<table border=\"1\" class=\"dataframe\">\n",
       "  <thead>\n",
       "    <tr style=\"text-align: right;\">\n",
       "      <th></th>\n",
       "      <th>title</th>\n",
       "      <th>body</th>\n",
       "      <th>tags</th>\n",
       "    </tr>\n",
       "  </thead>\n",
       "  <tbody>\n",
       "    <tr>\n",
       "      <th>0</th>\n",
       "      <td>How is viewport size typically passed as an ar...</td>\n",
       "      <td>I'm looking at the docs for a command line too...</td>\n",
       "      <td>&lt;html&gt;&lt;web&gt;&lt;command-line&gt;</td>\n",
       "    </tr>\n",
       "    <tr>\n",
       "      <th>1</th>\n",
       "      <td>mysqli_query insert success and throws error</td>\n",
       "      <td>This issue has baffled me. I have a simple mys...</td>\n",
       "      <td>&lt;php&gt;&lt;mysqli&gt;</td>\n",
       "    </tr>\n",
       "    <tr>\n",
       "      <th>2</th>\n",
       "      <td>Android Studio - Resources Menu</td>\n",
       "      <td>I am new to android Studio. I have placed a te...</td>\n",
       "      <td>&lt;android-studio&gt;&lt;android-resources&gt;</td>\n",
       "    </tr>\n",
       "  </tbody>\n",
       "</table>\n",
       "</div>"
      ],
      "text/plain": [
       "                                               title  \\\n",
       "0  How is viewport size typically passed as an ar...   \n",
       "1       mysqli_query insert success and throws error   \n",
       "2                    Android Studio - Resources Menu   \n",
       "\n",
       "                                                body  \\\n",
       "0  I'm looking at the docs for a command line too...   \n",
       "1  This issue has baffled me. I have a simple mys...   \n",
       "2  I am new to android Studio. I have placed a te...   \n",
       "\n",
       "                                  tags  \n",
       "0            <html><web><command-line>  \n",
       "1                        <php><mysqli>  \n",
       "2  <android-studio><android-resources>  "
      ]
     },
     "execution_count": 3,
     "metadata": {},
     "output_type": "execute_result"
    }
   ],
   "source": [
    "df.head(3)"
   ]
  },
  {
   "cell_type": "code",
   "execution_count": 4,
   "metadata": {
    "collapsed": false
   },
   "outputs": [],
   "source": [
    "%matplotlib inline\n",
    "# pandas for data manipulation\n",
    "import pandas as pd\n",
    "pd.options.mode.chained_assignment = None\n",
    "# nltk for nlp\n",
    "from nltk.tokenize import word_tokenize, sent_tokenize\n",
    "from nltk.corpus import stopwords\n",
    "# list of stopwords like articles, preposition\n",
    "stop = set(stopwords.words('english'))\n",
    "from string import punctuation\n",
    "from collections import Counter\n",
    "import re\n",
    "import numpy as np"
   ]
  },
  {
   "cell_type": "code",
   "execution_count": 5,
   "metadata": {
    "collapsed": false
   },
   "outputs": [
    {
     "name": "stdout",
     "output_type": "stream",
     "text": [
      "6 21449\n"
     ]
    }
   ],
   "source": [
    "que_words=[len(q) for q in df.body]\n",
    "print min(que_words),max(que_words)"
   ]
  },
  {
   "cell_type": "markdown",
   "metadata": {},
   "source": [
    "### Tokenize"
   ]
  },
  {
   "cell_type": "code",
   "execution_count": 6,
   "metadata": {
    "collapsed": false
   },
   "outputs": [],
   "source": [
    "def tokenizer(text):\n",
    "    try:\n",
    "        tokens_ = [word_tokenize(sent) for sent in sent_tokenize(text)]\n",
    "        \n",
    "        tokens = []\n",
    "        for token_by_sent in tokens_:\n",
    "            tokens += token_by_sent\n",
    "\n",
    "        tokens = list(filter(lambda t: t.lower() not in stop, tokens))\n",
    "        tokens = list(filter(lambda t: t not in punctuation, tokens))\n",
    "        tokens = list(filter(lambda t: t not in [u\"'s\", u\"n't\", u\"...\", u\"''\", u'``', \n",
    "                                            u'\\u2014', u'\\u2026', u'\\u2013'], tokens))\n",
    "        filtered_tokens = []\n",
    "        for token in tokens:\n",
    "            if re.search('[a-zA-Z]', token):\n",
    "                filtered_tokens.append(token)\n",
    "\n",
    "        filtered_tokens = list(map(lambda token: token.lower(), filtered_tokens))\n",
    "\n",
    "        return filtered_tokens\n",
    "    except Exception as e:\n",
    "        print(e)"
   ]
  },
  {
   "cell_type": "code",
   "execution_count": 7,
   "metadata": {
    "collapsed": false
   },
   "outputs": [],
   "source": [
    "tokens1 = df['body'].map(tokenizer)\n",
    "tokens2 = df['title'].map(tokenizer)\n",
    "df['tokens']=tokens1+tokens2"
   ]
  },
  {
   "cell_type": "markdown",
   "metadata": {},
   "source": [
    "### Stem"
   ]
  },
  {
   "cell_type": "code",
   "execution_count": 8,
   "metadata": {
    "collapsed": true
   },
   "outputs": [],
   "source": [
    "from nltk.stem.porter import PorterStemmer"
   ]
  },
  {
   "cell_type": "code",
   "execution_count": 9,
   "metadata": {
    "collapsed": false
   },
   "outputs": [],
   "source": [
    "def stem_token(df):\n",
    "    porter_stemmer = PorterStemmer()\n",
    "    tokens_list=[]\n",
    "    for tokens in df:\n",
    "        tokens_list.append(map(porter_stemmer.stem,tokens))\n",
    "    return tokens_list"
   ]
  },
  {
   "cell_type": "code",
   "execution_count": null,
   "metadata": {
    "collapsed": false
   },
   "outputs": [],
   "source": [
    "df['tokens'] = stem_token(df['tokens'])"
   ]
  },
  {
   "cell_type": "code",
   "execution_count": 100,
   "metadata": {
    "collapsed": false
   },
   "outputs": [],
   "source": [
    "from sklearn.feature_extraction.text import TfidfVectorizer\n",
    "\n",
    "# min_df is minimum number of documents that contain a term t\n",
    "# max_features is maximum number of unique tokens (across documents) that we'd consider\n",
    "# TfidfVectorizer preprocesses the descriptions using the tokenizer we defined above\n",
    "\n",
    "vectorizer = TfidfVectorizer(min_df=10, max_features=10000, tokenizer=tokenizer, ngram_range=(1, 2))\n",
    "vz = vectorizer.fit_transform(list(df['body']))"
   ]
  },
  {
   "cell_type": "code",
   "execution_count": 73,
   "metadata": {
    "collapsed": true
   },
   "outputs": [],
   "source": [
    "tfidf = dict(zip(vectorizer.get_feature_names(), vectorizer.idf_))\n",
    "tfidf = pd.DataFrame(columns=['tfidf']).from_dict(dict(tfidf), orient='index')\n",
    "tfidf.columns = ['tfidf']"
   ]
  },
  {
   "cell_type": "code",
   "execution_count": 74,
   "metadata": {
    "collapsed": false
   },
   "outputs": [
    {
     "data": {
      "text/plain": [
       "<matplotlib.axes._subplots.AxesSubplot at 0x11cd04e0>"
      ]
     },
     "execution_count": 74,
     "metadata": {},
     "output_type": "execute_result"
    },
    {
     "data": {
      "image/png": "[encoded data removed]",
      "text/plain": [
       "<matplotlib.figure.Figure at 0x128805c0>"
      ]
     },
     "metadata": {},
     "output_type": "display_data"
    }
   ],
   "source": [
    "tfidf.tfidf.hist(bins=50, figsize=(15,7))"
   ]
  },
  {
   "cell_type": "code",
   "execution_count": 75,
   "metadata": {
    "collapsed": false,
    "scrolled": true
   },
   "outputs": [
    {
     "data": {
      "text/html": [
       "<div>\n",
       "<table border=\"1\" class=\"dataframe\">\n",
       "  <thead>\n",
       "    <tr style=\"text-align: right;\">\n",
       "      <th></th>\n",
       "      <th>tfidf</th>\n",
       "    </tr>\n",
       "  </thead>\n",
       "  <tbody>\n",
       "    <tr>\n",
       "      <th>using</th>\n",
       "      <td>2.099495</td>\n",
       "    </tr>\n",
       "    <tr>\n",
       "      <th>code</th>\n",
       "      <td>2.161652</td>\n",
       "    </tr>\n",
       "    <tr>\n",
       "      <th>like</th>\n",
       "      <td>2.283672</td>\n",
       "    </tr>\n",
       "    <tr>\n",
       "      <th>want</th>\n",
       "      <td>2.303778</td>\n",
       "    </tr>\n",
       "    <tr>\n",
       "      <th>get</th>\n",
       "      <td>2.455224</td>\n",
       "    </tr>\n",
       "    <tr>\n",
       "      <th>'m</th>\n",
       "      <td>2.462814</td>\n",
       "    </tr>\n",
       "    <tr>\n",
       "      <th>use</th>\n",
       "      <td>2.570294</td>\n",
       "    </tr>\n",
       "    <tr>\n",
       "      <th>trying</th>\n",
       "      <td>2.674123</td>\n",
       "    </tr>\n",
       "    <tr>\n",
       "      <th>would</th>\n",
       "      <td>2.741018</td>\n",
       "    </tr>\n",
       "    <tr>\n",
       "      <th>error</th>\n",
       "      <td>2.770375</td>\n",
       "    </tr>\n",
       "    <tr>\n",
       "      <th>one</th>\n",
       "      <td>2.783413</td>\n",
       "    </tr>\n",
       "    <tr>\n",
       "      <th>need</th>\n",
       "      <td>2.805976</td>\n",
       "    </tr>\n",
       "    <tr>\n",
       "      <th>help</th>\n",
       "      <td>2.820851</td>\n",
       "    </tr>\n",
       "    <tr>\n",
       "      <th>way</th>\n",
       "      <td>2.858329</td>\n",
       "    </tr>\n",
       "    <tr>\n",
       "      <th>following</th>\n",
       "      <td>2.872574</td>\n",
       "    </tr>\n",
       "    <tr>\n",
       "      <th>tried</th>\n",
       "      <td>2.875448</td>\n",
       "    </tr>\n",
       "    <tr>\n",
       "      <th>problem</th>\n",
       "      <td>2.921078</td>\n",
       "    </tr>\n",
       "    <tr>\n",
       "      <th>file</th>\n",
       "      <td>2.933199</td>\n",
       "    </tr>\n",
       "    <tr>\n",
       "      <th>data</th>\n",
       "      <td>2.962590</td>\n",
       "    </tr>\n",
       "    <tr>\n",
       "      <th>know</th>\n",
       "      <td>3.004263</td>\n",
       "    </tr>\n",
       "    <tr>\n",
       "      <th>new</th>\n",
       "      <td>3.122251</td>\n",
       "    </tr>\n",
       "    <tr>\n",
       "      <th>also</th>\n",
       "      <td>3.127791</td>\n",
       "    </tr>\n",
       "    <tr>\n",
       "      <th>work</th>\n",
       "      <td>3.169385</td>\n",
       "    </tr>\n",
       "    <tr>\n",
       "      <th>example</th>\n",
       "      <td>3.196784</td>\n",
       "    </tr>\n",
       "    <tr>\n",
       "      <th>working</th>\n",
       "      <td>3.216824</td>\n",
       "    </tr>\n",
       "    <tr>\n",
       "      <th>'ve</th>\n",
       "      <td>3.256045</td>\n",
       "    </tr>\n",
       "    <tr>\n",
       "      <th>works</th>\n",
       "      <td>3.260264</td>\n",
       "    </tr>\n",
       "    <tr>\n",
       "      <th>first</th>\n",
       "      <td>3.294676</td>\n",
       "    </tr>\n",
       "    <tr>\n",
       "      <th>find</th>\n",
       "      <td>3.305678</td>\n",
       "    </tr>\n",
       "    <tr>\n",
       "      <th>make</th>\n",
       "      <td>3.307892</td>\n",
       "    </tr>\n",
       "  </tbody>\n",
       "</table>\n",
       "</div>"
      ],
      "text/plain": [
       "              tfidf\n",
       "using      2.099495\n",
       "code       2.161652\n",
       "like       2.283672\n",
       "want       2.303778\n",
       "get        2.455224\n",
       "'m         2.462814\n",
       "use        2.570294\n",
       "trying     2.674123\n",
       "would      2.741018\n",
       "error      2.770375\n",
       "one        2.783413\n",
       "need       2.805976\n",
       "help       2.820851\n",
       "way        2.858329\n",
       "following  2.872574\n",
       "tried      2.875448\n",
       "problem    2.921078\n",
       "file       2.933199\n",
       "data       2.962590\n",
       "know       3.004263\n",
       "new        3.122251\n",
       "also       3.127791\n",
       "work       3.169385\n",
       "example    3.196784\n",
       "working    3.216824\n",
       "'ve        3.256045\n",
       "works      3.260264\n",
       "first      3.294676\n",
       "find       3.305678\n",
       "make       3.307892"
      ]
     },
     "execution_count": 75,
     "metadata": {},
     "output_type": "execute_result"
    }
   ],
   "source": [
    "tfidf.sort_values(by=['tfidf'], ascending=True).head(30)"
   ]
  },
  {
   "cell_type": "code",
   "execution_count": 76,
   "metadata": {
    "collapsed": false,
    "scrolled": true
   },
   "outputs": [
    {
     "data": {
      "text/html": [
       "<div>\n",
       "<table border=\"1\" class=\"dataframe\">\n",
       "  <thead>\n",
       "    <tr style=\"text-align: right;\">\n",
       "      <th></th>\n",
       "      <th>tfidf</th>\n",
       "    </tr>\n",
       "  </thead>\n",
       "  <tbody>\n",
       "    <tr>\n",
       "      <th>one thing</th>\n",
       "      <td>7.021465</td>\n",
       "    </tr>\n",
       "    <tr>\n",
       "      <th>developers</th>\n",
       "      <td>7.021465</td>\n",
       "    </tr>\n",
       "    <tr>\n",
       "      <th>stage</th>\n",
       "      <td>7.021465</td>\n",
       "    </tr>\n",
       "    <tr>\n",
       "      <th>pool</th>\n",
       "      <td>7.021465</td>\n",
       "    </tr>\n",
       "    <tr>\n",
       "      <th>/button</th>\n",
       "      <td>7.021465</td>\n",
       "    </tr>\n",
       "    <tr>\n",
       "      <th>lt button</th>\n",
       "      <td>7.021465</td>\n",
       "    </tr>\n",
       "    <tr>\n",
       "      <th>want test</th>\n",
       "      <td>7.021465</td>\n",
       "    </tr>\n",
       "    <tr>\n",
       "      <th>working project</th>\n",
       "      <td>7.021465</td>\n",
       "    </tr>\n",
       "    <tr>\n",
       "      <th>moves</th>\n",
       "      <td>7.021465</td>\n",
       "    </tr>\n",
       "    <tr>\n",
       "      <th>pipeline</th>\n",
       "      <td>7.021465</td>\n",
       "    </tr>\n",
       "    <tr>\n",
       "      <th>lt /table</th>\n",
       "      <td>7.021465</td>\n",
       "    </tr>\n",
       "    <tr>\n",
       "      <th>exported</th>\n",
       "      <td>7.021465</td>\n",
       "    </tr>\n",
       "    <tr>\n",
       "      <th>deep</th>\n",
       "      <td>7.021465</td>\n",
       "    </tr>\n",
       "    <tr>\n",
       "      <th>'m adding</th>\n",
       "      <td>7.021465</td>\n",
       "    </tr>\n",
       "    <tr>\n",
       "      <th>daily</th>\n",
       "      <td>7.021465</td>\n",
       "    </tr>\n",
       "    <tr>\n",
       "      <th>optimize</th>\n",
       "      <td>7.021465</td>\n",
       "    </tr>\n",
       "    <tr>\n",
       "      <th>put code</th>\n",
       "      <td>7.021465</td>\n",
       "    </tr>\n",
       "    <tr>\n",
       "      <th>extensions</th>\n",
       "      <td>7.021465</td>\n",
       "    </tr>\n",
       "    <tr>\n",
       "      <th>signature</th>\n",
       "      <td>7.021465</td>\n",
       "    </tr>\n",
       "    <tr>\n",
       "      <th>independent</th>\n",
       "      <td>7.021465</td>\n",
       "    </tr>\n",
       "    <tr>\n",
       "      <th>sql query</th>\n",
       "      <td>7.021465</td>\n",
       "    </tr>\n",
       "    <tr>\n",
       "      <th>listen</th>\n",
       "      <td>7.021465</td>\n",
       "    </tr>\n",
       "    <tr>\n",
       "      <th>new android</th>\n",
       "      <td>7.021465</td>\n",
       "    </tr>\n",
       "    <tr>\n",
       "      <th>3d</th>\n",
       "      <td>7.021465</td>\n",
       "    </tr>\n",
       "    <tr>\n",
       "      <th>ability</th>\n",
       "      <td>7.021465</td>\n",
       "    </tr>\n",
       "    <tr>\n",
       "      <th>ends</th>\n",
       "      <td>7.021465</td>\n",
       "    </tr>\n",
       "    <tr>\n",
       "      <th>/html gt</th>\n",
       "      <td>7.021465</td>\n",
       "    </tr>\n",
       "    <tr>\n",
       "      <th>chose</th>\n",
       "      <td>7.021465</td>\n",
       "    </tr>\n",
       "    <tr>\n",
       "      <th>using one</th>\n",
       "      <td>7.021465</td>\n",
       "    </tr>\n",
       "    <tr>\n",
       "      <th>another class</th>\n",
       "      <td>7.021465</td>\n",
       "    </tr>\n",
       "  </tbody>\n",
       "</table>\n",
       "</div>"
      ],
      "text/plain": [
       "                    tfidf\n",
       "one thing        7.021465\n",
       "developers       7.021465\n",
       "stage            7.021465\n",
       "pool             7.021465\n",
       "/button          7.021465\n",
       "lt button        7.021465\n",
       "want test        7.021465\n",
       "working project  7.021465\n",
       "moves            7.021465\n",
       "pipeline         7.021465\n",
       "lt /table        7.021465\n",
       "exported         7.021465\n",
       "deep             7.021465\n",
       "'m adding        7.021465\n",
       "daily            7.021465\n",
       "optimize         7.021465\n",
       "put code         7.021465\n",
       "extensions       7.021465\n",
       "signature        7.021465\n",
       "independent      7.021465\n",
       "sql query        7.021465\n",
       "listen           7.021465\n",
       "new android      7.021465\n",
       "3d               7.021465\n",
       "ability          7.021465\n",
       "ends             7.021465\n",
       "/html gt         7.021465\n",
       "chose            7.021465\n",
       "using one        7.021465\n",
       "another class    7.021465"
      ]
     },
     "execution_count": 76,
     "metadata": {},
     "output_type": "execute_result"
    }
   ],
   "source": [
    "tfidf.sort_values(by=['tfidf'], ascending=False).head(30)"
   ]
  }
 ],
 "metadata": {
  "kernelspec": {
   "display_name": "Python 2",
   "language": "python",
   "name": "python2"
  },
  "language_info": {
   "codemirror_mode": {
    "name": "ipython",
    "version": 2
   },
   "file_extension": ".py",
   "mimetype": "text/x-python",
   "name": "python",
   "nbconvert_exporter": "python",
   "pygments_lexer": "ipython2",
   "version": "2.7.13"
  }
 },
 "nbformat": 4,
 "nbformat_minor": 2
}
