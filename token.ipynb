{
 "cells": [
  {
   "cell_type": "code",
   "execution_count": null,
   "metadata": {
    "collapsed": true
   },
   "outputs": [],
   "source": [
    "from nltk import word_tokenize\n",
    "from nltk.corpus import stopwords\n",
    "from nltk.stem.snowball import SnowballStemmer\n",
    "stemmer = SnowballStemmer('english')\n",
    "stop = stopwords.words('english')\n",
    "stop.extend(['want', 'to', \"'s\"])\n",
    "english_punctuations = [',', '.', ':', ';', '?', '(', ')', '[', ']', '&', '!', '*', '@', '#', '$', '%', \"'\", \"'m\", \"-\",\"n't\"]\n",
    "stop.extend(english_punctuations)\n",
    "to_be_removed = [\"''\", '``', '...', \"'d\", '2', '--', '/' , '>', '3', '=', 'x', 'e.g', '2005', '2008', '{', '}', '2.0', '0']\n",
    "stop.extend(to_be_removed)\n",
    "\n",
    "\n",
    "\n",
    "\n",
    "def Preprocess(text):\n",
    "    return text.lower()\n",
    "\n",
    "def Token(text):\n",
    "    tokens = word_tokenize(text)\n",
    "    texts_filtered = [stemmer.stem(word) for word in tokens]\n",
    "    final_res = [word for word in texts_filtered if not word in stop]\n",
    "    return final_res"
   ]
  }
 ],
 "metadata": {
  "kernelspec": {
   "display_name": "Python 2",
   "language": "python",
   "name": "python2"
  },
  "language_info": {
   "codemirror_mode": {
    "name": "ipython",
    "version": 2
   },
   "file_extension": ".py",
   "mimetype": "text/x-python",
   "name": "python",
   "nbconvert_exporter": "python",
   "pygments_lexer": "ipython2",
   "version": "2.7.13"
  }
 },
 "nbformat": 4,
 "nbformat_minor": 2
}
